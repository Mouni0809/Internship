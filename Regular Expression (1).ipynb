{
 "cells": [
  {
   "cell_type": "code",
   "execution_count": 2,
   "id": "5e3b8103",
   "metadata": {},
   "outputs": [],
   "source": [
    "import re"
   ]
  },
  {
   "cell_type": "code",
   "execution_count": 9,
   "id": "ea6ab570",
   "metadata": {},
   "outputs": [
    {
     "name": "stdout",
     "output_type": "stream",
     "text": [
      "Python:Exercises::PHP:exercises:\n"
     ]
    }
   ],
   "source": [
    "#1\n",
    "def replace_chars(string):\n",
    "    chars=[' ',',','.']\n",
    "    new_string= string\n",
    "    for char in chars:\n",
    "        new_string= new_string.replace(char,':')\n",
    "    return new_string\n",
    "string= 'Python Exercises, PHP exercises.'\n",
    "result= replace_chars(string)\n",
    "print (result)\n"
   ]
  },
  {
   "cell_type": "code",
   "execution_count": 10,
   "id": "b1fe6941",
   "metadata": {},
   "outputs": [
    {
     "name": "stdout",
     "output_type": "stream",
     "text": [
      "['an', 'and', 'also', 'an']\n"
     ]
    }
   ],
   "source": [
    "#2\n",
    "def words_starting_with_a_or_e(string):\n",
    "    words = re.findall(r'\\b[ae]\\w+', string)\n",
    "    return words\n",
    "string = 'Mounisha is an Msc Finance graduate and also Mounisha is an MBA finance graduate.'\n",
    "result = words_starting_with_a_or_e(string)\n",
    "print(result)"
   ]
  },
  {
   "cell_type": "code",
   "execution_count": 11,
   "id": "b3105910",
   "metadata": {},
   "outputs": [
    {
     "name": "stdout",
     "output_type": "stream",
     "text": [
      "['beginning', 'wisdom', 'knowledge', 'understanding']\n"
     ]
    }
   ],
   "source": [
    "#3\n",
    "def long_words(string):\n",
    "    rule = re.compile(r'\\b\\w{5,}\\b')\n",
    "    words = rule.findall(input_string)\n",
    "    return words\n",
    "input_string = \"The fear of the Lord is the beginning of wisdom and knowledge of the Holy One is understanding\" \n",
    "result = long_words(input_string)\n",
    "print(result)"
   ]
  },
  {
   "cell_type": "code",
   "execution_count": 12,
   "id": "ffba028f",
   "metadata": {},
   "outputs": [
    {
     "name": "stdout",
     "output_type": "stream",
     "text": [
      "['The', 'fear', 'the', 'Lord', 'the', 'wisdom', 'and', 'the', 'Holy', 'One']\n"
     ]
    }
   ],
   "source": [
    "#4\n",
    "def long_words(string):\n",
    "    rule = re.compile(r'\\b\\w{3,6}\\b')\n",
    "    words = rule.findall(input_string)\n",
    "    return words\n",
    "string = \"The fear of the Lord is the beginning of wisdom and knowledge of the Holy One is understanding\" \n",
    "result = long_words(string)\n",
    "print(result)"
   ]
  },
  {
   "cell_type": "code",
   "execution_count": 13,
   "id": "2e92a6de",
   "metadata": {},
   "outputs": [
    {
     "name": "stdout",
     "output_type": "stream",
     "text": [
      "example.com\n",
      "hr@fliprobo.com\n",
      "github.com\n",
      "HelloData Science World\n",
      "DataScientist\n"
     ]
    }
   ],
   "source": [
    "#5\n",
    "def parentheses_words(strings):\n",
    "    pattern = re.compile(r'(\\S*)\\s*\\((.*?)\\)\\s*(\\S*)')\n",
    "    stringss = []\n",
    "    for string in strings:\n",
    "        match = pattern.match(string)\n",
    "        if match:\n",
    "            first = match.group(1)\n",
    "            middle = match.group(2)\n",
    "            end = match.group(3)\n",
    "            stringss.append(f\"{first}{middle}{end}\")\n",
    "        else:\n",
    "            stringss.append(string)\n",
    "    return stringss\n",
    "string = [\n",
    "    \"example (.com)\",\n",
    "    \"hr@fliprobo (.com)\",\n",
    "    \"github (.com)\",\n",
    "    \"Hello (Data Science World)\",\n",
    "    \"Data (Scientist)\"\n",
    "]\n",
    "result = parentheses_words(string)\n",
    "for string in result:\n",
    "    print(string)"
   ]
  },
  {
   "cell_type": "code",
   "execution_count": 35,
   "id": "4baccc22",
   "metadata": {},
   "outputs": [
    {
     "name": "stdout",
     "output_type": "stream",
     "text": [
      "['example', 'hr@fliprobo', 'github', 'Hello', 'Data']\n"
     ]
    }
   ],
   "source": [
    "#6\n",
    "sample_text = '[\"example (.com)\", \"hr@fliprobo (.com)\", \"github (.com)\", \"Hello (Data Science World)\", \"Data (Scientist)\"]'\n",
    "\n",
    "pattern = r'\\s?\\([^)]*\\)'\n",
    "\n",
    "modified_text = re.sub(pattern, '', sample_text)\n",
    "modified_text_list = re.findall(r'\"([^\"]*)\"', cleaned_text)\n",
    "\n",
    "print(modified_text_list)"
   ]
  },
  {
   "cell_type": "code",
   "execution_count": 14,
   "id": "4174f49b",
   "metadata": {},
   "outputs": [
    {
     "name": "stdout",
     "output_type": "stream",
     "text": [
      "['Importance', 'Of', 'Regular', 'Expressions', 'In', 'Python']\n"
     ]
    }
   ],
   "source": [
    "#7\n",
    "sample_text = \"ImportanceOfRegularExpressionsInPython\"\n",
    "words = re.findall(r'[A-Z][a-z]*', sample_text)\n",
    "print(words)\n"
   ]
  },
  {
   "cell_type": "code",
   "execution_count": 15,
   "id": "308bc488",
   "metadata": {},
   "outputs": [
    {
     "name": "stdout",
     "output_type": "stream",
     "text": [
      "RegularExpression 1IsAn 2ImportantTopic 3InPython\n"
     ]
    }
   ],
   "source": [
    "#8\n",
    "def spaces_bw_no(text):\n",
    "    modified_text = re.sub(r'([A-Za-z])(\\d)', r'\\1 \\2', text)\n",
    "    return modified_text\n",
    "sample_text = \"RegularExpression1IsAn2ImportantTopic3InPython\"\n",
    "result = spaces_bw_no(sample_text)\n",
    "print(result)"
   ]
  },
  {
   "cell_type": "code",
   "execution_count": 50,
   "id": "5f131543",
   "metadata": {},
   "outputs": [
    {
     "name": "stdout",
     "output_type": "stream",
     "text": [
      "Regular Expression 1 Is An 2 Important Topic 3 In Python\n"
     ]
    }
   ],
   "source": [
    "#9\n",
    "def insert_spaces(text):\n",
    "    spaced_text = re.sub(r'(?<=[a-z])(?=[A-Z0-9])|(?<=\\d)(?=\\D)', ' ', text)\n",
    "    return spaced_text\n",
    "\n",
    "sample_text = \"RegularExpression1IsAn2ImportantTopic3InPython\"\n",
    "result = insert_spaces(sample_text)\n",
    "print(result)\n"
   ]
  },
  {
   "cell_type": "code",
   "execution_count": 49,
   "id": "00ed3cca",
   "metadata": {},
   "outputs": [
    {
     "name": "stdout",
     "output_type": "stream",
     "text": [
      "xyz@domain.com\n",
      "xyz.abc@sdomain.domain.com\n",
      "hr@fliprobo.com\n"
     ]
    }
   ],
   "source": [
    "#10\n",
    "sample_text = \"Hello my name is Data Science and my email address is xyz@domain.com and alternate email address is xyz.abc@sdomain.domain.com. Please contact us at hr@fliprobo.com for further information.\"\n",
    "\n",
    "file_path = \"sample_text_file.txt\"\n",
    "\n",
    "with open(file_path, \"w\") as file:\n",
    "    file.write(sample_text)\n",
    "\n",
    "def extract_email_addresses_from_text_file(file_path):\n",
    "    with open(file_path, \"r\") as file:\n",
    "        content = file.read()\n",
    "        email_pattern = r\"\\b[A-Za-z0-9._%+-]+@[A-Za-z0-9.-]+\\.[A-Za-z]{2,}\\b\"\n",
    "        email_addresses = re.findall(email_pattern, content)\n",
    "        return email_addresses\n",
    "\n",
    "extracted_email_addresses = extract_email_addresses_from_text_file(file_path)\n",
    "\n",
    "for email in extracted_email_addresses:\n",
    "    print(email)"
   ]
  },
  {
   "cell_type": "code",
   "execution_count": 6,
   "id": "b724a614",
   "metadata": {},
   "outputs": [
    {
     "name": "stdout",
     "output_type": "stream",
     "text": [
      "\"Mouni_0809\" is valid.\n",
      "\"Mounisha_Srinivaseelu_Naidu\" is valid.\n",
      "\"mounisha!\" is invalid.\n",
      "\"Mounisha Srinivasan\" is invalid.\n"
     ]
    }
   ],
   "source": [
    "#11\n",
    "def is_valid_string(input_string):\n",
    "    pattern = r'^[A-Za-z0-9_]*$'\n",
    "    return re.match(pattern, input_string) is not None\n",
    "test_strings = [\n",
    "    \"Mouni_0809\",\n",
    "    \"Mounisha_Srinivaseelu_Naidu\",\n",
    "    \"mounisha!\",\n",
    "    \"Mounisha Srinivasan\",\n",
    "]\n",
    "for test_string in test_strings:\n",
    "    if is_valid_string(test_string):\n",
    "        print(f'\"{test_string}\" is valid.')\n",
    "    else:\n",
    "        print(f'\"{test_string}\" is invalid.')\n"
   ]
  },
  {
   "cell_type": "code",
   "execution_count": 7,
   "id": "44c13445",
   "metadata": {},
   "outputs": [
    {
     "name": "stdout",
     "output_type": "stream",
     "text": [
      "\"123mouni\" does not start with numbers 456.\n",
      "\"456mouni\" starts with numbers 456.\n",
      "\"789mouni\" does not start with numbers 456.\n"
     ]
    }
   ],
   "source": [
    "#12\n",
    "def number(input_string, target_number):\n",
    "    return input_string.startswith(str(target_number))\n",
    "test_strings = [\"123mouni\", \"456mouni\", \"789mouni\"]\n",
    "target_number = 456\n",
    "for string in test_strings:\n",
    "    if number(string, target_number):\n",
    "        print(f'\"{string}\" starts with numbers {target_number}.')\n",
    "    else:\n",
    "        print(f'\"{string}\" does not start with numbers {target_number}.')"
   ]
  },
  {
   "cell_type": "code",
   "execution_count": 9,
   "id": "b1ef4b95",
   "metadata": {},
   "outputs": [
    {
     "name": "stdout",
     "output_type": "stream",
     "text": [
      "Original IP: 192.168.011.001, Modified IP: 192.168.11.1\n",
      "Original IP: 010.220.030.040, Modified IP: 10.220.30.40\n",
      "Original IP: 020.000.000.000, Modified IP: 20.0.0.0\n"
     ]
    }
   ],
   "source": [
    "#13\n",
    "def remove_zeros(ip_address):\n",
    "    parts = ip_address.split('.')\n",
    "    normalized_parts = [str(int(part)) for part in parts]\n",
    "    return '.'.join(normalized_parts)\n",
    "test_ip_addresses = [\"192.168.011.001\", \"010.220.030.040\", \"020.000.000.000\"]\n",
    "for ip in test_ip_addresses:\n",
    "    normalized_ip = remove_zeros(ip)\n",
    "    print(f'Original IP: {ip}, Modified IP: {normalized_ip}')"
   ]
  },
  {
   "cell_type": "code",
   "execution_count": 45,
   "id": "606b5d28",
   "metadata": {},
   "outputs": [
    {
     "name": "stdout",
     "output_type": "stream",
     "text": [
      "Extracted Date:\n",
      "August 15th 1947\n"
     ]
    }
   ],
   "source": [
    "#14\n",
    "\n",
    "sample_text = \"On August 15th 1947 that India was declared independent from British colonialism, and the reins of control were handed over to the leaders of the Country.\"\n",
    "\n",
    "file_path = \"sample_text_file.txt\"\n",
    "\n",
    "with open(file_path, \"w\") as file:\n",
    "    file.write(sample_text)\n",
    "\n",
    "def extract_date_from_text_file(file_path):\n",
    "    with open(file_path, \"r\") as file:\n",
    "        content = file.read()\n",
    "        date_pattern = r\"\\b(?:January|February|March|April|May|June|July|August|September|October|November|December)\\s+\\d{1,2}(?:st|nd|rd|th)?\\s+\\d{4}\\b\"\n",
    "        date_match = re.search(date_pattern, content)\n",
    "        if date_match:\n",
    "            return date_match.group()\n",
    "        else:\n",
    "            return \"Date not found.\"\n",
    "\n",
    "extracted_date = extract_date_from_text_file(file_path)\n",
    "\n",
    "print(\"Extracted Date:\")\n",
    "print(extracted_date)"
   ]
  },
  {
   "cell_type": "code",
   "execution_count": 10,
   "id": "906a4fde",
   "metadata": {},
   "outputs": [
    {
     "name": "stdout",
     "output_type": "stream",
     "text": [
      "Found: fox\n",
      "Found: dog\n",
      "Not Found: horse\n"
     ]
    }
   ],
   "source": [
    "#15\n",
    "def words(text, words):\n",
    "    result_words = [word for word in words if word in text]\n",
    "    return result_words\n",
    "sample_text = 'The quick brown fox jumps over the lazy dog.'\n",
    "searched_words = ['fox', 'dog', 'horse']\n",
    "result_words = words(sample_text, searched_words)\n",
    "for word in result_words:\n",
    "    print(f'Found: {word}')   \n",
    "for word in searched_words:\n",
    "    if word not in result_words:\n",
    "        print(f'Not Found: {word}')\n"
   ]
  },
  {
   "cell_type": "code",
   "execution_count": 11,
   "id": "59e0c5e3",
   "metadata": {},
   "outputs": [
    {
     "name": "stdout",
     "output_type": "stream",
     "text": [
      "Wanted_word \"fox\" positions: [16]\n"
     ]
    }
   ],
   "source": [
    "#16\n",
    "def search_and_location(text, pattern):\n",
    "    find_locations = []\n",
    "    start = 0\n",
    "    while start < len(text):\n",
    "        pos = text.find(pattern, start)\n",
    "        if pos == -1:\n",
    "            break\n",
    "        find_locations.append(pos)\n",
    "        start = pos + 1\n",
    "    return find_locations\n",
    "sample_text = 'The quick brown fox jumps over the lazy dog.'\n",
    "searched_word = 'fox'\n",
    "find_locations = search_and_location(sample_text, searched_word)\n",
    "if find_locations:\n",
    "    print(f'Wanted_word \"{searched_word}\" positions: {find_locations}')\n",
    "else:\n",
    "    print(f'Wanted_word \"{searched_word}\" not found.')\n"
   ]
  },
  {
   "cell_type": "code",
   "execution_count": 12,
   "id": "ec312c66",
   "metadata": {},
   "outputs": [
    {
     "name": "stdout",
     "output_type": "stream",
     "text": [
      "Occurrences of 'exercises': ['exercises', 'exercises', 'exercises']\n"
     ]
    }
   ],
   "source": [
    "#17\n",
    "def find_substrings(text, pattern):\n",
    "    matches = re.findall(pattern, text)\n",
    "    return matches\n",
    "\n",
    "sample_text = 'Python exercises, PHP exercises, C# exercises'\n",
    "search_pattern = 'exercises'\n",
    "\n",
    "substrings = find_substrings(sample_text, search_pattern)\n",
    "print(f\"Occurrences of '{search_pattern}': {substrings}\")"
   ]
  },
  {
   "cell_type": "code",
   "execution_count": 17,
   "id": "56a799cd",
   "metadata": {},
   "outputs": [
    {
     "name": "stdout",
     "output_type": "stream",
     "text": [
      "Occurrence 'Mounisha' in 'Mounisha is an Msc Finance graduate and also Mounisha is an MBA finance graduate': 2 \n",
      "Positions: [0, 45]\n"
     ]
    }
   ],
   "source": [
    "#18\n",
    "def find_substring(main_string, substring):\n",
    "    occurrences = []\n",
    "    position = -1\n",
    "    while True:\n",
    "        position = main_string.find(substring, position + 1)\n",
    "        if position == -1:\n",
    "            break\n",
    "        occurrences.append(position)\n",
    "    return occurrences\n",
    "main_string = \"Mounisha is an Msc Finance graduate and also Mounisha is an MBA finance graduate\"\n",
    "substring = \"Mounisha\"\n",
    "occurrences = find_substring(main_string, substring)\n",
    "print(f\"Occurrence '{substring}' in '{main_string}': {len(occurrences)} \")\n",
    "print(\"Positions:\", occurrences)\n"
   ]
  },
  {
   "cell_type": "code",
   "execution_count": 18,
   "id": "793b7810",
   "metadata": {},
   "outputs": [
    {
     "name": "stdout",
     "output_type": "stream",
     "text": [
      "09-09-1999\n"
     ]
    }
   ],
   "source": [
    "#19\n",
    "def convert_date(date):\n",
    "    parts = date.split('-')\n",
    "    if len(parts) != 3:\n",
    "        return \"Invalid date format\"\n",
    "    year, month, day = parts\n",
    "    converted_date = f\"{day}-{month}-{year}\"\n",
    "    return converted_date\n",
    "input_date = \"1999-09-09\"\n",
    "output_date = convert_date(input_date)\n",
    "print(output_date)\n"
   ]
  },
  {
   "cell_type": "code",
   "execution_count": 19,
   "id": "7e3a6363",
   "metadata": {},
   "outputs": [
    {
     "name": "stdout",
     "output_type": "stream",
     "text": [
      "['01.12', '145.8', '3.01', '27.25', '0.25']\n"
     ]
    }
   ],
   "source": [
    "#20\n",
    "def decimal_no(text):\n",
    "    pattern = re.compile(r'\\b\\d+\\.\\d{1,2}\\b')\n",
    "    decimal_numbers = pattern.findall(text)\n",
    "    return decimal_numbers\n",
    "sample_text = \"01.12 0132.123 2.31875 145.8 3.01 27.25 0.25\"\n",
    "result = decimal_no(sample_text)\n",
    "print(result)\n"
   ]
  },
  {
   "cell_type": "code",
   "execution_count": 20,
   "id": "ca412169",
   "metadata": {},
   "outputs": [
    {
     "name": "stdout",
     "output_type": "stream",
     "text": [
      "Number: 1999, Position: 21\n"
     ]
    }
   ],
   "source": [
    "#21\n",
    "def extract_numbers_and_positions(input_string):\n",
    "    numbers_with_positions = []\n",
    "    start = 0\n",
    "    while start < len(input_string):\n",
    "        while start < len(input_string) and not input_string[start].isdigit():\n",
    "            start += 1 \n",
    "        if start < len(input_string):\n",
    "            end = start\n",
    "            while end < len(input_string) and input_string[end].isdigit():\n",
    "                end += 1\n",
    "            number = input_string[start:end]\n",
    "            numbers_with_positions.append((number, start))\n",
    "            start = end\n",
    "    return numbers_with_positions\n",
    "sample_string = \"Mounisha graduate in 1999\"\n",
    "numbers_and_positions = extract_numbers_and_positions(sample_string)\n",
    "for number, position in numbers_and_positions:\n",
    "    print(f\"Number: {number}, Position: {position}\")\n"
   ]
  },
  {
   "cell_type": "code",
   "execution_count": 21,
   "id": "d2be4b4e",
   "metadata": {},
   "outputs": [
    {
     "name": "stdout",
     "output_type": "stream",
     "text": [
      "Maximum value: 950\n"
     ]
    }
   ],
   "source": [
    "#22\n",
    "def extract_max(text):\n",
    "    numbers = re.findall(r'\\d+', text)\n",
    "    if numbers:\n",
    "        max_number = max(map(int, numbers))\n",
    "        return max_number\n",
    "    else:\n",
    "        return None\n",
    "sample_text = 'My marks in each semester are: 947, 896, 926, 524, 734, 950, 642'\n",
    "max_value = extract_max(sample_text)\n",
    "if max_value is not None:\n",
    "    print(\"Maximum value:\", max_value)\n",
    "else:\n",
    "    print(\"No numeric values found in the text.\")\n"
   ]
  },
  {
   "cell_type": "code",
   "execution_count": 22,
   "id": "927f68ba",
   "metadata": {},
   "outputs": [
    {
     "name": "stdout",
     "output_type": "stream",
     "text": [
      "Regular Expression Is An Important Topic In Python\n"
     ]
    }
   ],
   "source": [
    "#23\n",
    "def insert_spaces(input_string):\n",
    "    words = re.findall(r'[A-Z][a-z]*', input_string)\n",
    "    formatted_string = ' '.join(words)\n",
    "    return formatted_string\n",
    "sample_text = \"RegularExpressionIsAnImportantTopicInPython\"\n",
    "modified_text = insert_spaces(sample_text)\n",
    "print(modified_text)"
   ]
  },
  {
   "cell_type": "code",
   "execution_count": 23,
   "id": "f4b18805",
   "metadata": {},
   "outputs": [
    {
     "name": "stdout",
     "output_type": "stream",
     "text": [
      "['Mounisha', 'Msc', 'Finance', 'Mounisha', 'M', 'B', 'A']\n"
     ]
    }
   ],
   "source": [
    "#24\n",
    "sample_text = \"Mounisha is an Msc Finance graduate and also Mounisha is an MBA finance graduate\"\n",
    "matches = re.findall(r'[A-Z][a-z]*', sample_text)\n",
    "print(matches)\n"
   ]
  },
  {
   "cell_type": "code",
   "execution_count": 24,
   "id": "2cd1009f",
   "metadata": {},
   "outputs": [
    {
     "name": "stdout",
     "output_type": "stream",
     "text": [
      "Hello hello world\n"
     ]
    }
   ],
   "source": [
    "#25\n",
    "def continuous_duplicates(sentence):\n",
    "    modified_sentence = re.sub(r'\\b(\\w+)(?:\\s+\\1)+\\b', r'\\1', sentence)\n",
    "    return modified_sentence\n",
    "sample_text = \"Hello hello world world\"\n",
    "modified_text = continuous_duplicates(sample_text)\n",
    "print(modified_text)"
   ]
  },
  {
   "cell_type": "code",
   "execution_count": 25,
   "id": "5729de55",
   "metadata": {},
   "outputs": [
    {
     "name": "stdout",
     "output_type": "stream",
     "text": [
      "'mouni123' is valid.\n",
      "'mouni456' is valid.\n",
      "'mouni#' is not valid.\n"
     ]
    }
   ],
   "source": [
    "#26\n",
    "def is_valid_string(input_string):\n",
    "    pattern = re.compile(r'^.*[a-zA-Z0-9]$')\n",
    "    if pattern.match(input_string):\n",
    "        return True\n",
    "    return False\n",
    "sample_strings = [\"mouni123\", \"mouni456\", \"mouni#\"]\n",
    "for string in sample_strings:\n",
    "    if is_valid_string(string):\n",
    "        print(f\"'{string}' is valid.\")\n",
    "    else:\n",
    "        print(f\"'{string}' is not valid.\")"
   ]
  },
  {
   "cell_type": "code",
   "execution_count": 29,
   "id": "b942e4a9",
   "metadata": {},
   "outputs": [
    {
     "name": "stdout",
     "output_type": "stream",
     "text": [
      "['#Doltiwal', '#xyzabc', '#Demonetization']\n"
     ]
    }
   ],
   "source": [
    "#27\n",
    "new_text = \"\"\"RT @kapil_kausik: #Doltiwal I mean #xyzabc is \"hurt\" by #Demonetization as the same has rendered USELESS <ed><U+00A0><U+00BD><ed><U+00B1><U+0089> \"acquired funds\" No wo\"\"\"\n",
    "pattern = r\"#\\w+\"\n",
    "extract_hashtags = re.findall(pattern, sample_text)\n",
    "print(extract_hashtags)\n"
   ]
  },
  {
   "cell_type": "code",
   "execution_count": 30,
   "id": "d1f03822",
   "metadata": {},
   "outputs": [
    {
     "name": "stdout",
     "output_type": "stream",
     "text": [
      "@Jags123456 Bharat band on 28??<ed><ed>Those who  are protesting #demonetization  are all different party leaders\n"
     ]
    }
   ],
   "source": [
    "#28\n",
    "new_text = \"@Jags123456 Bharat band on 28??<ed><U+00A0><U+00BD><ed><U+00B8><U+0082>Those who  are protesting #demonetization  are all different party leaders\"\n",
    "pattern = r\"<U\\+[A-F0-9]+>\"\n",
    "remove_symbols = re.sub(pattern, \"\", new_text)\n",
    "print(remove_symbols)\n"
   ]
  },
  {
   "cell_type": "code",
   "execution_count": 44,
   "id": "3f5c4689",
   "metadata": {},
   "outputs": [
    {
     "name": "stdout",
     "output_type": "stream",
     "text": [
      "Extracted Dates:\n",
      "12-09-1992\n",
      "15-12-1999\n"
     ]
    }
   ],
   "source": [
    "#29\n",
    "sample_text = \"Ron was born on 12-09-1992 and he was admitted to school 15-12-1999.\"\n",
    "\n",
    "file_path = \"sample_text_file.txt\"\n",
    "\n",
    "with open(file_path, \"w\") as file:\n",
    "    file.write(sample_text)\n",
    "\n",
    "def extract_dates_from_file(file_path):\n",
    "    with open(file_path, \"r\") as file:\n",
    "        content = file.read()\n",
    "        date_pattern = r\"\\d{2}-\\d{2}-\\d{4}\"\n",
    "        dates = re.findall(date_pattern, content)\n",
    "        return dates\n",
    "\n",
    "extracted_dates = extract_dates_from_file(file_path)\n",
    "\n",
    "print(\"Extracted Dates:\")\n",
    "for date in extracted_dates:\n",
    "    print(date)"
   ]
  },
  {
   "cell_type": "code",
   "execution_count": 31,
   "id": "d2d859c6",
   "metadata": {},
   "outputs": [
    {
     "name": "stdout",
     "output_type": "stream",
     "text": [
      " following example creates  ArrayList  a capacity   elements. 4 elements   added   ArrayList   ArrayList  trimmed accordingly.\n"
     ]
    }
   ],
   "source": [
    "#30\n",
    "def remove_words(text):\n",
    "    pattern = re.compile(r'\\b\\w{2,4}\\b')\n",
    "    new_text = pattern.sub('', text)\n",
    "    return new_text\n",
    "\n",
    "sample_text = \"The following example creates an ArrayList with a capacity of 50 elements. 4 elements are then added to the ArrayList and the ArrayList is trimmed accordingly.\"\n",
    "result = remove_words(sample_text)\n",
    "print(result)\n"
   ]
  },
  {
   "cell_type": "code",
   "execution_count": null,
   "id": "0c45c785",
   "metadata": {},
   "outputs": [],
   "source": []
  },
  {
   "cell_type": "code",
   "execution_count": null,
   "id": "898c4302",
   "metadata": {},
   "outputs": [],
   "source": []
  }
 ],
 "metadata": {
  "kernelspec": {
   "display_name": "Python 3 (ipykernel)",
   "language": "python",
   "name": "python3"
  },
  "language_info": {
   "codemirror_mode": {
    "name": "ipython",
    "version": 3
   },
   "file_extension": ".py",
   "mimetype": "text/x-python",
   "name": "python",
   "nbconvert_exporter": "python",
   "pygments_lexer": "ipython3",
   "version": "3.9.13"
  }
 },
 "nbformat": 4,
 "nbformat_minor": 5
}
